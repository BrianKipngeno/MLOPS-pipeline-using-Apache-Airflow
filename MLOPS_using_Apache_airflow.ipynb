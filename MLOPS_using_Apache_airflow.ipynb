{
  "nbformat": 4,
  "nbformat_minor": 0,
  "metadata": {
    "colab": {
      "provenance": [],
      "authorship_tag": "ABX9TyOs7quBH7Sy+ta1gL3QRdET",
      "include_colab_link": true
    },
    "kernelspec": {
      "name": "python3",
      "display_name": "Python 3"
    },
    "language_info": {
      "name": "python"
    }
  },
  "cells": [
    {
      "cell_type": "markdown",
      "metadata": {
        "id": "view-in-github",
        "colab_type": "text"
      },
      "source": [
        "<a href=\"https://colab.research.google.com/github/BrianKipngeno/MLOPS-pipeline-using-Apache-Airflow/blob/main/MLOPS_using_Apache_airflow.ipynb\" target=\"_parent\"><img src=\"https://colab.research.google.com/assets/colab-badge.svg\" alt=\"Open In Colab\"/></a>"
      ]
    },
    {
      "cell_type": "markdown",
      "source": [
        "# Introduction"
      ],
      "metadata": {
        "id": "GleEALgiBJxP"
      }
    },
    {
      "cell_type": "markdown",
      "source": [
        "Machine Learning Operations (MLOps) integrates machine learning model development and deployment into a robust, automated pipeline.\n",
        "\n",
        "I’ll demonstrate how to build an MLOps pipeline using Apache Airflow to automate preprocessing, model training, and deployment tasks."
      ],
      "metadata": {
        "id": "HYR8LEnSBOq1"
      }
    },
    {
      "cell_type": "markdown",
      "source": [
        "# Overview"
      ],
      "metadata": {
        "id": "Tc6_wDoYBdnn"
      }
    },
    {
      "cell_type": "markdown",
      "source": [
        "The given dataset contains app usage behaviour with five key columns:\n",
        "\n",
        "- Date (usage day)\n",
        "- App (e.g., Instagram, WhatsApp)\n",
        "- Usage (minutes spent)\n",
        "- Notifications (alerts received)\n",
        "and Times Opened (app launches)."
      ],
      "metadata": {
        "id": "UukZ0OhRBf7S"
      }
    },
    {
      "cell_type": "markdown",
      "source": [
        "The goal of this pipeline is to streamline the process of analyzing screentime data by automating its preprocessing and utilizing machine learning to predict app usage.\n",
        "\n",
        "To ensure seamless execution, we will design an Airflow DAG to schedule and automate daily data preprocessing tasks to support a robust and scalable workflow."
      ],
      "metadata": {
        "id": "QNFxdcf9BnXn"
      }
    },
    {
      "cell_type": "markdown",
      "source": [
        "# Building an MLOps Pipeline using Apache Airflow"
      ],
      "metadata": {
        "id": "2EiDntB5B3qV"
      }
    },
    {
      "cell_type": "markdown",
      "source": [
        "## Preprocessing"
      ],
      "metadata": {
        "id": "0eL8zLyZEE49"
      }
    },
    {
      "cell_type": "code",
      "execution_count": null,
      "metadata": {
        "id": "d06iBvkFBA-f"
      },
      "outputs": [],
      "source": [
        "# Let's begin with the necessary data preprocessing steps\n",
        "\n",
        "import pandas as pd\n",
        "from sklearn.preprocessing import MinMaxScaler\n",
        "\n",
        "# load the dataset\n",
        "data = pd.read_csv('/content/screentime_analysis (1).csv')\n"
      ]
    },
    {
      "cell_type": "code",
      "source": [
        "data.head()"
      ],
      "metadata": {
        "colab": {
          "base_uri": "https://localhost:8080/",
          "height": 206
        },
        "id": "oYPE6wmXDSzA",
        "outputId": "980cbdb4-9bdb-4670-93f9-8e5fd948cb59"
      },
      "execution_count": null,
      "outputs": [
        {
          "output_type": "execute_result",
          "data": {
            "text/plain": [
              "         Date        App  Usage (minutes)  Notifications  Times Opened\n",
              "0  2024-08-07  Instagram               81             24            57\n",
              "1  2024-08-08  Instagram               90             30            53\n",
              "2  2024-08-26  Instagram              112             33            17\n",
              "3  2024-08-22  Instagram               82             11            38\n",
              "4  2024-08-12  Instagram               59             47            16"
            ],
            "text/html": [
              "\n",
              "  <div id=\"df-065cb46b-f42d-4b4d-902b-9b026e781495\" class=\"colab-df-container\">\n",
              "    <div>\n",
              "<style scoped>\n",
              "    .dataframe tbody tr th:only-of-type {\n",
              "        vertical-align: middle;\n",
              "    }\n",
              "\n",
              "    .dataframe tbody tr th {\n",
              "        vertical-align: top;\n",
              "    }\n",
              "\n",
              "    .dataframe thead th {\n",
              "        text-align: right;\n",
              "    }\n",
              "</style>\n",
              "<table border=\"1\" class=\"dataframe\">\n",
              "  <thead>\n",
              "    <tr style=\"text-align: right;\">\n",
              "      <th></th>\n",
              "      <th>Date</th>\n",
              "      <th>App</th>\n",
              "      <th>Usage (minutes)</th>\n",
              "      <th>Notifications</th>\n",
              "      <th>Times Opened</th>\n",
              "    </tr>\n",
              "  </thead>\n",
              "  <tbody>\n",
              "    <tr>\n",
              "      <th>0</th>\n",
              "      <td>2024-08-07</td>\n",
              "      <td>Instagram</td>\n",
              "      <td>81</td>\n",
              "      <td>24</td>\n",
              "      <td>57</td>\n",
              "    </tr>\n",
              "    <tr>\n",
              "      <th>1</th>\n",
              "      <td>2024-08-08</td>\n",
              "      <td>Instagram</td>\n",
              "      <td>90</td>\n",
              "      <td>30</td>\n",
              "      <td>53</td>\n",
              "    </tr>\n",
              "    <tr>\n",
              "      <th>2</th>\n",
              "      <td>2024-08-26</td>\n",
              "      <td>Instagram</td>\n",
              "      <td>112</td>\n",
              "      <td>33</td>\n",
              "      <td>17</td>\n",
              "    </tr>\n",
              "    <tr>\n",
              "      <th>3</th>\n",
              "      <td>2024-08-22</td>\n",
              "      <td>Instagram</td>\n",
              "      <td>82</td>\n",
              "      <td>11</td>\n",
              "      <td>38</td>\n",
              "    </tr>\n",
              "    <tr>\n",
              "      <th>4</th>\n",
              "      <td>2024-08-12</td>\n",
              "      <td>Instagram</td>\n",
              "      <td>59</td>\n",
              "      <td>47</td>\n",
              "      <td>16</td>\n",
              "    </tr>\n",
              "  </tbody>\n",
              "</table>\n",
              "</div>\n",
              "    <div class=\"colab-df-buttons\">\n",
              "\n",
              "  <div class=\"colab-df-container\">\n",
              "    <button class=\"colab-df-convert\" onclick=\"convertToInteractive('df-065cb46b-f42d-4b4d-902b-9b026e781495')\"\n",
              "            title=\"Convert this dataframe to an interactive table.\"\n",
              "            style=\"display:none;\">\n",
              "\n",
              "  <svg xmlns=\"http://www.w3.org/2000/svg\" height=\"24px\" viewBox=\"0 -960 960 960\">\n",
              "    <path d=\"M120-120v-720h720v720H120Zm60-500h600v-160H180v160Zm220 220h160v-160H400v160Zm0 220h160v-160H400v160ZM180-400h160v-160H180v160Zm440 0h160v-160H620v160ZM180-180h160v-160H180v160Zm440 0h160v-160H620v160Z\"/>\n",
              "  </svg>\n",
              "    </button>\n",
              "\n",
              "  <style>\n",
              "    .colab-df-container {\n",
              "      display:flex;\n",
              "      gap: 12px;\n",
              "    }\n",
              "\n",
              "    .colab-df-convert {\n",
              "      background-color: #E8F0FE;\n",
              "      border: none;\n",
              "      border-radius: 50%;\n",
              "      cursor: pointer;\n",
              "      display: none;\n",
              "      fill: #1967D2;\n",
              "      height: 32px;\n",
              "      padding: 0 0 0 0;\n",
              "      width: 32px;\n",
              "    }\n",
              "\n",
              "    .colab-df-convert:hover {\n",
              "      background-color: #E2EBFA;\n",
              "      box-shadow: 0px 1px 2px rgba(60, 64, 67, 0.3), 0px 1px 3px 1px rgba(60, 64, 67, 0.15);\n",
              "      fill: #174EA6;\n",
              "    }\n",
              "\n",
              "    .colab-df-buttons div {\n",
              "      margin-bottom: 4px;\n",
              "    }\n",
              "\n",
              "    [theme=dark] .colab-df-convert {\n",
              "      background-color: #3B4455;\n",
              "      fill: #D2E3FC;\n",
              "    }\n",
              "\n",
              "    [theme=dark] .colab-df-convert:hover {\n",
              "      background-color: #434B5C;\n",
              "      box-shadow: 0px 1px 3px 1px rgba(0, 0, 0, 0.15);\n",
              "      filter: drop-shadow(0px 1px 2px rgba(0, 0, 0, 0.3));\n",
              "      fill: #FFFFFF;\n",
              "    }\n",
              "  </style>\n",
              "\n",
              "    <script>\n",
              "      const buttonEl =\n",
              "        document.querySelector('#df-065cb46b-f42d-4b4d-902b-9b026e781495 button.colab-df-convert');\n",
              "      buttonEl.style.display =\n",
              "        google.colab.kernel.accessAllowed ? 'block' : 'none';\n",
              "\n",
              "      async function convertToInteractive(key) {\n",
              "        const element = document.querySelector('#df-065cb46b-f42d-4b4d-902b-9b026e781495');\n",
              "        const dataTable =\n",
              "          await google.colab.kernel.invokeFunction('convertToInteractive',\n",
              "                                                    [key], {});\n",
              "        if (!dataTable) return;\n",
              "\n",
              "        const docLinkHtml = 'Like what you see? Visit the ' +\n",
              "          '<a target=\"_blank\" href=https://colab.research.google.com/notebooks/data_table.ipynb>data table notebook</a>'\n",
              "          + ' to learn more about interactive tables.';\n",
              "        element.innerHTML = '';\n",
              "        dataTable['output_type'] = 'display_data';\n",
              "        await google.colab.output.renderOutput(dataTable, element);\n",
              "        const docLink = document.createElement('div');\n",
              "        docLink.innerHTML = docLinkHtml;\n",
              "        element.appendChild(docLink);\n",
              "      }\n",
              "    </script>\n",
              "  </div>\n",
              "\n",
              "\n",
              "<div id=\"df-a5b304be-396f-49f5-86f8-ac8505e4edd2\">\n",
              "  <button class=\"colab-df-quickchart\" onclick=\"quickchart('df-a5b304be-396f-49f5-86f8-ac8505e4edd2')\"\n",
              "            title=\"Suggest charts\"\n",
              "            style=\"display:none;\">\n",
              "\n",
              "<svg xmlns=\"http://www.w3.org/2000/svg\" height=\"24px\"viewBox=\"0 0 24 24\"\n",
              "     width=\"24px\">\n",
              "    <g>\n",
              "        <path d=\"M19 3H5c-1.1 0-2 .9-2 2v14c0 1.1.9 2 2 2h14c1.1 0 2-.9 2-2V5c0-1.1-.9-2-2-2zM9 17H7v-7h2v7zm4 0h-2V7h2v10zm4 0h-2v-4h2v4z\"/>\n",
              "    </g>\n",
              "</svg>\n",
              "  </button>\n",
              "\n",
              "<style>\n",
              "  .colab-df-quickchart {\n",
              "      --bg-color: #E8F0FE;\n",
              "      --fill-color: #1967D2;\n",
              "      --hover-bg-color: #E2EBFA;\n",
              "      --hover-fill-color: #174EA6;\n",
              "      --disabled-fill-color: #AAA;\n",
              "      --disabled-bg-color: #DDD;\n",
              "  }\n",
              "\n",
              "  [theme=dark] .colab-df-quickchart {\n",
              "      --bg-color: #3B4455;\n",
              "      --fill-color: #D2E3FC;\n",
              "      --hover-bg-color: #434B5C;\n",
              "      --hover-fill-color: #FFFFFF;\n",
              "      --disabled-bg-color: #3B4455;\n",
              "      --disabled-fill-color: #666;\n",
              "  }\n",
              "\n",
              "  .colab-df-quickchart {\n",
              "    background-color: var(--bg-color);\n",
              "    border: none;\n",
              "    border-radius: 50%;\n",
              "    cursor: pointer;\n",
              "    display: none;\n",
              "    fill: var(--fill-color);\n",
              "    height: 32px;\n",
              "    padding: 0;\n",
              "    width: 32px;\n",
              "  }\n",
              "\n",
              "  .colab-df-quickchart:hover {\n",
              "    background-color: var(--hover-bg-color);\n",
              "    box-shadow: 0 1px 2px rgba(60, 64, 67, 0.3), 0 1px 3px 1px rgba(60, 64, 67, 0.15);\n",
              "    fill: var(--button-hover-fill-color);\n",
              "  }\n",
              "\n",
              "  .colab-df-quickchart-complete:disabled,\n",
              "  .colab-df-quickchart-complete:disabled:hover {\n",
              "    background-color: var(--disabled-bg-color);\n",
              "    fill: var(--disabled-fill-color);\n",
              "    box-shadow: none;\n",
              "  }\n",
              "\n",
              "  .colab-df-spinner {\n",
              "    border: 2px solid var(--fill-color);\n",
              "    border-color: transparent;\n",
              "    border-bottom-color: var(--fill-color);\n",
              "    animation:\n",
              "      spin 1s steps(1) infinite;\n",
              "  }\n",
              "\n",
              "  @keyframes spin {\n",
              "    0% {\n",
              "      border-color: transparent;\n",
              "      border-bottom-color: var(--fill-color);\n",
              "      border-left-color: var(--fill-color);\n",
              "    }\n",
              "    20% {\n",
              "      border-color: transparent;\n",
              "      border-left-color: var(--fill-color);\n",
              "      border-top-color: var(--fill-color);\n",
              "    }\n",
              "    30% {\n",
              "      border-color: transparent;\n",
              "      border-left-color: var(--fill-color);\n",
              "      border-top-color: var(--fill-color);\n",
              "      border-right-color: var(--fill-color);\n",
              "    }\n",
              "    40% {\n",
              "      border-color: transparent;\n",
              "      border-right-color: var(--fill-color);\n",
              "      border-top-color: var(--fill-color);\n",
              "    }\n",
              "    60% {\n",
              "      border-color: transparent;\n",
              "      border-right-color: var(--fill-color);\n",
              "    }\n",
              "    80% {\n",
              "      border-color: transparent;\n",
              "      border-right-color: var(--fill-color);\n",
              "      border-bottom-color: var(--fill-color);\n",
              "    }\n",
              "    90% {\n",
              "      border-color: transparent;\n",
              "      border-bottom-color: var(--fill-color);\n",
              "    }\n",
              "  }\n",
              "</style>\n",
              "\n",
              "  <script>\n",
              "    async function quickchart(key) {\n",
              "      const quickchartButtonEl =\n",
              "        document.querySelector('#' + key + ' button');\n",
              "      quickchartButtonEl.disabled = true;  // To prevent multiple clicks.\n",
              "      quickchartButtonEl.classList.add('colab-df-spinner');\n",
              "      try {\n",
              "        const charts = await google.colab.kernel.invokeFunction(\n",
              "            'suggestCharts', [key], {});\n",
              "      } catch (error) {\n",
              "        console.error('Error during call to suggestCharts:', error);\n",
              "      }\n",
              "      quickchartButtonEl.classList.remove('colab-df-spinner');\n",
              "      quickchartButtonEl.classList.add('colab-df-quickchart-complete');\n",
              "    }\n",
              "    (() => {\n",
              "      let quickchartButtonEl =\n",
              "        document.querySelector('#df-a5b304be-396f-49f5-86f8-ac8505e4edd2 button');\n",
              "      quickchartButtonEl.style.display =\n",
              "        google.colab.kernel.accessAllowed ? 'block' : 'none';\n",
              "    })();\n",
              "  </script>\n",
              "</div>\n",
              "\n",
              "    </div>\n",
              "  </div>\n"
            ],
            "application/vnd.google.colaboratory.intrinsic+json": {
              "type": "dataframe",
              "variable_name": "data",
              "summary": "{\n  \"name\": \"data\",\n  \"rows\": 200,\n  \"fields\": [\n    {\n      \"column\": \"Date\",\n      \"properties\": {\n        \"dtype\": \"object\",\n        \"num_unique_values\": 30,\n        \"samples\": [\n          \"2024-08-05\",\n          \"2024-08-14\",\n          \"2024-08-13\"\n        ],\n        \"semantic_type\": \"\",\n        \"description\": \"\"\n      }\n    },\n    {\n      \"column\": \"App\",\n      \"properties\": {\n        \"dtype\": \"category\",\n        \"num_unique_values\": 8,\n        \"samples\": [\n          \"X\",\n          \"Netflix\",\n          \"Instagram\"\n        ],\n        \"semantic_type\": \"\",\n        \"description\": \"\"\n      }\n    },\n    {\n      \"column\": \"Usage (minutes)\",\n      \"properties\": {\n        \"dtype\": \"number\",\n        \"std\": 29,\n        \"min\": 1,\n        \"max\": 119,\n        \"num_unique_values\": 81,\n        \"samples\": [\n          17,\n          81,\n          39\n        ],\n        \"semantic_type\": \"\",\n        \"description\": \"\"\n      }\n    },\n    {\n      \"column\": \"Notifications\",\n      \"properties\": {\n        \"dtype\": \"number\",\n        \"std\": 35,\n        \"min\": 0,\n        \"max\": 147,\n        \"num_unique_values\": 76,\n        \"samples\": [\n          47,\n          7,\n          60\n        ],\n        \"semantic_type\": \"\",\n        \"description\": \"\"\n      }\n    },\n    {\n      \"column\": \"Times Opened\",\n      \"properties\": {\n        \"dtype\": \"number\",\n        \"std\": 24,\n        \"min\": 1,\n        \"max\": 99,\n        \"num_unique_values\": 62,\n        \"samples\": [\n          2,\n          25,\n          57\n        ],\n        \"semantic_type\": \"\",\n        \"description\": \"\"\n      }\n    }\n  ]\n}"
            }
          },
          "metadata": {},
          "execution_count": 3
        }
      ]
    },
    {
      "cell_type": "code",
      "source": [
        "# check for missing\n",
        "print(data.isnull().sum())"
      ],
      "metadata": {
        "colab": {
          "base_uri": "https://localhost:8080/"
        },
        "id": "q08u86YOCPxA",
        "outputId": "c3f2d2dd-52ad-42bd-e2e6-8a873ea0a90f"
      },
      "execution_count": null,
      "outputs": [
        {
          "output_type": "stream",
          "name": "stdout",
          "text": [
            "Date               0\n",
            "App                0\n",
            "Usage (minutes)    0\n",
            "Notifications      0\n",
            "Times Opened       0\n",
            "dtype: int64\n"
          ]
        }
      ]
    },
    {
      "cell_type": "code",
      "source": [
        "# Checking for duplicates\n",
        "print(data.duplicated().sum())"
      ],
      "metadata": {
        "colab": {
          "base_uri": "https://localhost:8080/"
        },
        "id": "RKR4NkAmCWeD",
        "outputId": "3f38070c-ebfe-4ef8-a23a-333ee3e50163"
      },
      "execution_count": null,
      "outputs": [
        {
          "output_type": "stream",
          "name": "stdout",
          "text": [
            "0\n"
          ]
        }
      ]
    },
    {
      "cell_type": "code",
      "source": [
        "# Checking the datatypes\n",
        "data.info()"
      ],
      "metadata": {
        "colab": {
          "base_uri": "https://localhost:8080/"
        },
        "id": "kA0TH_MuCr97",
        "outputId": "38d09abc-8d4b-4073-ff45-205048bdf833"
      },
      "execution_count": null,
      "outputs": [
        {
          "output_type": "stream",
          "name": "stdout",
          "text": [
            "<class 'pandas.core.frame.DataFrame'>\n",
            "RangeIndex: 200 entries, 0 to 199\n",
            "Data columns (total 5 columns):\n",
            " #   Column           Non-Null Count  Dtype \n",
            "---  ------           --------------  ----- \n",
            " 0   Date             200 non-null    object\n",
            " 1   App              200 non-null    object\n",
            " 2   Usage (minutes)  200 non-null    int64 \n",
            " 3   Notifications    200 non-null    int64 \n",
            " 4   Times Opened     200 non-null    int64 \n",
            "dtypes: int64(3), object(2)\n",
            "memory usage: 7.9+ KB\n"
          ]
        }
      ]
    },
    {
      "cell_type": "code",
      "source": [
        "# coDate column to datetime and extract features\n",
        "data['Date'] = pd.to_datetime(data['Date'])\n",
        "data['DayOfWeek'] = data['Date'].dt.dayofweek\n",
        "data['Month'] = data['Date'].dt.month"
      ],
      "metadata": {
        "id": "TWZGBBQyCf9F"
      },
      "execution_count": null,
      "outputs": []
    },
    {
      "cell_type": "code",
      "source": [
        "# Encoding the categorical 'App' column using one-hot encoding\n",
        "data = pd.get_dummies(data, columns=['App'], drop_first=True)"
      ],
      "metadata": {
        "id": "zz4V3e9CC1nE"
      },
      "execution_count": null,
      "outputs": []
    },
    {
      "cell_type": "code",
      "source": [
        "# Scaling numerical features using MinMaxScaler\n",
        "scaler = MinMaxScaler()\n",
        "data[['Notifications', 'Times Opened']] = scaler.fit_transform(data[['Notifications', 'Times Opened']])\n"
      ],
      "metadata": {
        "id": "msIkPrrHC7tI"
      },
      "execution_count": null,
      "outputs": []
    },
    {
      "cell_type": "code",
      "source": [
        "# Feature engineering\n",
        "data['Previous_Day_Usage'] = data['Usage (minutes)'].shift(1)\n",
        "data['Notifications_x_TimesOpened'] = data['Notifications'] * data['Times Opened']\n"
      ],
      "metadata": {
        "id": "nyWM6yn5DClB"
      },
      "execution_count": null,
      "outputs": []
    },
    {
      "cell_type": "code",
      "source": [
        "# Let's save the preprocessed data to a file\n",
        "data.to_csv('preprocessed_screentime_analysis.csv', index=False)"
      ],
      "metadata": {
        "id": "YB0hCX4lDKgo"
      },
      "execution_count": null,
      "outputs": []
    },
    {
      "cell_type": "markdown",
      "source": [
        "## Summary of preprocessing"
      ],
      "metadata": {
        "id": "roGoNMC2Dp2T"
      }
    },
    {
      "cell_type": "markdown",
      "source": [
        "- The above code performs data preprocessing to prepare the screentime dataset for machine learning.\n",
        "\n",
        "- It begins by loading the dataset and ensuring data quality through checks for missing values and duplicates.\n",
        "\n",
        "- It then processes the Date column to extract useful temporal features like DayOfWeek and Month.\n",
        "\n",
        "- The App column is transformed using one-hot encoding to convert it into a numeric format."
      ],
      "metadata": {
        "id": "CXMRZV-SDdVX"
      }
    },
    {
      "cell_type": "markdown",
      "source": [
        "- The process scales numerical columns, such as Notifications and Times Opened, using MinMaxScaler to ensure uniformity.\n",
        "- Feature engineering creates lagged (Previous_Day_Usage) and interaction (Notifications_x_TimesOpened) features to enhance predictive power."
      ],
      "metadata": {
        "id": "CF6-bld9D09Z"
      }
    },
    {
      "cell_type": "markdown",
      "source": [
        "## Training the Model"
      ],
      "metadata": {
        "id": "3EklPw3OD9RL"
      }
    },
    {
      "cell_type": "code",
      "source": [
        "#  We will train a Random Forest model to predict app usage\n",
        "\n",
        "from sklearn.model_selection import train_test_split\n",
        "from sklearn.ensemble import RandomForestRegressor\n",
        "from sklearn.metrics import mean_absolute_error\n",
        "\n",
        "# split data into features and target variable\n",
        "X = data.drop(columns=['Usage (minutes)', 'Date'])\n",
        "y = data['Usage (minutes)']\n",
        "\n",
        "# train-test split\n",
        "X_train, X_test, y_train, y_test = train_test_split(X, y, test_size=0.2, random_state=42)\n",
        "\n",
        "# train the model\n",
        "model = RandomForestRegressor(random_state=42)\n",
        "model.fit(X_train, y_train)\n",
        "\n",
        "# evaluate the model\n",
        "predictions = model.predict(X_test)\n",
        "mae = mean_absolute_error(y_test, predictions)\n",
        "print(f'Mean Absolute Error: {mae}')"
      ],
      "metadata": {
        "colab": {
          "base_uri": "https://localhost:8080/"
        },
        "id": "6AoclVLFD_VK",
        "outputId": "33aab982-d880-47d3-de1c-9816dc3d73f5"
      },
      "execution_count": null,
      "outputs": [
        {
          "output_type": "stream",
          "name": "stdout",
          "text": [
            "Mean Absolute Error: 15.398500000000002\n"
          ]
        }
      ]
    },
    {
      "cell_type": "markdown",
      "source": [
        " - We are splitting the preprocessed data into training and testing sets, training a Random Forest Regressor model, and evaluating its performance.\n",
        "\n",
        "- First, the process separates the target variable (Usage (minutes)) from the features and performs an 80-20 train-test split. The training data is used to train the RandomForestRegressor model. After completing the training, the model generates predictions on the test set, and the Mean Absolute Error (MAE) metric quantifies the average difference between the predicted and actual values to assess performance.\n",
        "\n",
        "- The Mean Absolute Error (MAE) of 15.3985 indicates that, on average, the model’s predicted screentime differs from the actual screentime by approximately 15.4 minutes. This gives a measure of the model’s predictive accuracy, showing that while the model performs reasonably well, there is still room for improvement in reducing this error to make predictions more precise."
      ],
      "metadata": {
        "id": "5i88fWfVEf12"
      }
    },
    {
      "cell_type": "markdown",
      "source": [
        "# Automating Preprocessing with a Pipeline using Apache Airflow"
      ],
      "metadata": {
        "id": "iCHZPbT5Es3d"
      }
    },
    {
      "cell_type": "markdown",
      "source": [
        "Apache Airflow enables the automation of tasks using Directed Acyclic Graphs (DAGs). Here, we will use a DAG to build a pipeline to preprocess data daily."
      ],
      "metadata": {
        "id": "WHIgzlc5EzG-"
      }
    },
    {
      "cell_type": "code",
      "source": [
        "# Let's first install Apache airflow\n",
        "\n",
        "!pip install apache-airflow"
      ],
      "metadata": {
        "colab": {
          "base_uri": "https://localhost:8080/"
        },
        "id": "0UxumHLiEPzA",
        "outputId": "80ce0c03-f2fb-4408-d777-51900f5f8767"
      },
      "execution_count": null,
      "outputs": [
        {
          "output_type": "stream",
          "name": "stdout",
          "text": [
            "Collecting apache-airflow\n",
            "  Downloading apache_airflow-2.10.5-py3-none-any.whl.metadata (45 kB)\n",
            "\u001b[?25l     \u001b[90m━━━━━━━━━━━━━━━━━━━━━━━━━━━━━━━━━━━━━━━━\u001b[0m \u001b[32m0.0/45.4 kB\u001b[0m \u001b[31m?\u001b[0m eta \u001b[36m-:--:--\u001b[0m\r\u001b[2K     \u001b[90m━━━━━━━━━━━━━━━━━━━━━━━━━━━━━━━━━━━━━━━━\u001b[0m \u001b[32m45.4/45.4 kB\u001b[0m \u001b[31m2.2 MB/s\u001b[0m eta \u001b[36m0:00:00\u001b[0m\n",
            "\u001b[?25hCollecting alembic<2.0,>=1.13.1 (from apache-airflow)\n",
            "  Downloading alembic-1.15.1-py3-none-any.whl.metadata (7.2 kB)\n",
            "Collecting argcomplete>=1.10 (from apache-airflow)\n",
            "  Downloading argcomplete-3.6.0-py3-none-any.whl.metadata (16 kB)\n",
            "Collecting asgiref>=2.3.0 (from apache-airflow)\n",
            "  Downloading asgiref-3.8.1-py3-none-any.whl.metadata (9.3 kB)\n",
            "Requirement already satisfied: attrs>=22.1.0 in /usr/local/lib/python3.11/dist-packages (from apache-airflow) (25.3.0)\n",
            "Requirement already satisfied: blinker>=1.6.2 in /usr/local/lib/python3.11/dist-packages (from apache-airflow) (1.9.0)\n",
            "Collecting colorlog>=6.8.2 (from apache-airflow)\n",
            "  Downloading colorlog-6.9.0-py3-none-any.whl.metadata (10 kB)\n",
            "Collecting configupdater>=3.1.1 (from apache-airflow)\n",
            "  Downloading ConfigUpdater-3.2-py2.py3-none-any.whl.metadata (10 kB)\n",
            "Collecting connexion<3.0,>=2.14.2 (from connexion[flask]<3.0,>=2.14.2->apache-airflow)\n",
            "  Downloading connexion-2.14.2-py2.py3-none-any.whl.metadata (28 kB)\n",
            "Collecting cron-descriptor>=1.2.24 (from apache-airflow)\n",
            "  Downloading cron_descriptor-1.4.5-py3-none-any.whl.metadata (5.7 kB)\n",
            "Collecting croniter>=2.0.2 (from apache-airflow)\n",
            "  Downloading croniter-6.0.0-py2.py3-none-any.whl.metadata (32 kB)\n",
            "Requirement already satisfied: cryptography>=41.0.0 in /usr/local/lib/python3.11/dist-packages (from apache-airflow) (43.0.3)\n",
            "Requirement already satisfied: deprecated>=1.2.13 in /usr/local/lib/python3.11/dist-packages (from apache-airflow) (1.2.18)\n",
            "Collecting dill>=0.2.2 (from apache-airflow)\n",
            "  Downloading dill-0.3.9-py3-none-any.whl.metadata (10 kB)\n",
            "Collecting flask-caching>=2.0.0 (from apache-airflow)\n",
            "  Downloading Flask_Caching-2.3.1-py3-none-any.whl.metadata (2.2 kB)\n",
            "Collecting flask-session<0.6,>=0.4.0 (from apache-airflow)\n",
            "  Downloading flask_session-0.5.0-py3-none-any.whl.metadata (1.4 kB)\n",
            "Collecting flask-wtf>=1.1.0 (from apache-airflow)\n",
            "  Downloading flask_wtf-1.2.2-py3-none-any.whl.metadata (3.4 kB)\n",
            "Collecting flask<2.3,>=2.2.1 (from apache-airflow)\n",
            "  Downloading Flask-2.2.5-py3-none-any.whl.metadata (3.9 kB)\n",
            "Requirement already satisfied: fsspec>=2023.10.0 in /usr/local/lib/python3.11/dist-packages (from apache-airflow) (2025.3.0)\n",
            "Collecting google-re2>=1.0 (from apache-airflow)\n",
            "  Downloading google_re2-1.1.20240702-1-cp311-cp311-manylinux_2_24_x86_64.manylinux_2_28_x86_64.whl.metadata (2.2 kB)\n",
            "Collecting gunicorn>=20.1.0 (from apache-airflow)\n",
            "  Downloading gunicorn-23.0.0-py3-none-any.whl.metadata (4.4 kB)\n",
            "Requirement already satisfied: httpx>=0.25.0 in /usr/local/lib/python3.11/dist-packages (from apache-airflow) (0.28.1)\n",
            "Requirement already satisfied: importlib_metadata>=6.5 in /usr/local/lib/python3.11/dist-packages (from apache-airflow) (8.6.1)\n",
            "Requirement already satisfied: itsdangerous>=2.0 in /usr/local/lib/python3.11/dist-packages (from apache-airflow) (2.2.0)\n",
            "Requirement already satisfied: jinja2>=3.0.0 in /usr/local/lib/python3.11/dist-packages (from apache-airflow) (3.1.6)\n",
            "Requirement already satisfied: jsonschema>=4.18.0 in /usr/local/lib/python3.11/dist-packages (from apache-airflow) (4.23.0)\n",
            "Collecting lazy-object-proxy>=1.2.0 (from apache-airflow)\n",
            "  Downloading lazy_object_proxy-1.10.0-cp311-cp311-manylinux_2_5_x86_64.manylinux1_x86_64.manylinux_2_17_x86_64.manylinux2014_x86_64.whl.metadata (7.8 kB)\n",
            "Requirement already satisfied: linkify-it-py>=2.0.0 in /usr/local/lib/python3.11/dist-packages (from apache-airflow) (2.0.3)\n",
            "Collecting lockfile>=0.12.2 (from apache-airflow)\n",
            "  Downloading lockfile-0.12.2-py2.py3-none-any.whl.metadata (2.4 kB)\n",
            "Requirement already satisfied: markdown-it-py>=2.1.0 in /usr/local/lib/python3.11/dist-packages (from apache-airflow) (3.0.0)\n",
            "Requirement already satisfied: markupsafe>=1.1.1 in /usr/local/lib/python3.11/dist-packages (from apache-airflow) (3.0.2)\n",
            "Collecting marshmallow-oneofschema>=2.0.1 (from apache-airflow)\n",
            "  Downloading marshmallow_oneofschema-3.1.1-py3-none-any.whl.metadata (5.0 kB)\n",
            "Requirement already satisfied: mdit-py-plugins>=0.3.0 in /usr/local/lib/python3.11/dist-packages (from apache-airflow) (0.4.2)\n",
            "Collecting methodtools>=0.4.7 (from apache-airflow)\n",
            "  Downloading methodtools-0.4.7-py2.py3-none-any.whl.metadata (3.0 kB)\n",
            "Requirement already satisfied: opentelemetry-api>=1.24.0 in /usr/local/lib/python3.11/dist-packages (from apache-airflow) (1.31.0)\n",
            "Collecting opentelemetry-exporter-otlp>=1.24.0 (from apache-airflow)\n",
            "  Downloading opentelemetry_exporter_otlp-1.31.1-py3-none-any.whl.metadata (2.5 kB)\n",
            "Requirement already satisfied: packaging>=23.0 in /usr/local/lib/python3.11/dist-packages (from apache-airflow) (24.2)\n",
            "Collecting pathspec>=0.9.0 (from apache-airflow)\n",
            "  Downloading pathspec-0.12.1-py3-none-any.whl.metadata (21 kB)\n",
            "Collecting pendulum<4.0,>=2.1.2 (from apache-airflow)\n",
            "  Downloading pendulum-3.0.0-cp311-cp311-manylinux_2_17_x86_64.manylinux2014_x86_64.whl.metadata (6.9 kB)\n",
            "Requirement already satisfied: pluggy>=1.5.0 in /usr/local/lib/python3.11/dist-packages (from apache-airflow) (1.5.0)\n",
            "Requirement already satisfied: psutil>=5.8.0 in /usr/local/lib/python3.11/dist-packages (from apache-airflow) (5.9.5)\n",
            "Requirement already satisfied: pygments>=2.0.1 in /usr/local/lib/python3.11/dist-packages (from apache-airflow) (2.18.0)\n",
            "Requirement already satisfied: pyjwt>=2.0.0 in /usr/local/lib/python3.11/dist-packages (from apache-airflow) (2.10.1)\n",
            "Collecting python-daemon>=3.0.0 (from apache-airflow)\n",
            "  Downloading python_daemon-3.1.2-py3-none-any.whl.metadata (4.8 kB)\n",
            "Requirement already satisfied: python-dateutil>=2.7.0 in /usr/local/lib/python3.11/dist-packages (from apache-airflow) (2.8.2)\n",
            "Collecting python-nvd3>=0.15.0 (from apache-airflow)\n",
            "  Downloading python-nvd3-0.16.0.tar.gz (34 kB)\n",
            "  Preparing metadata (setup.py) ... \u001b[?25l\u001b[?25hdone\n",
            "Requirement already satisfied: python-slugify>=5.0 in /usr/local/lib/python3.11/dist-packages (from apache-airflow) (8.0.4)\n",
            "Requirement already satisfied: requests<3,>=2.27.0 in /usr/local/lib/python3.11/dist-packages (from apache-airflow) (2.32.3)\n",
            "Requirement already satisfied: requests-toolbelt>=0.4.0 in /usr/local/lib/python3.11/dist-packages (from apache-airflow) (1.0.0)\n",
            "Collecting rfc3339-validator>=0.1.4 (from apache-airflow)\n",
            "  Downloading rfc3339_validator-0.1.4-py2.py3-none-any.whl.metadata (1.5 kB)\n",
            "Collecting rich-argparse>=1.0.0 (from apache-airflow)\n",
            "  Downloading rich_argparse-1.7.0-py3-none-any.whl.metadata (14 kB)\n",
            "Requirement already satisfied: rich>=12.4.4 in /usr/local/lib/python3.11/dist-packages (from apache-airflow) (13.9.4)\n",
            "Requirement already satisfied: setproctitle>=1.3.3 in /usr/local/lib/python3.11/dist-packages (from apache-airflow) (1.3.5)\n",
            "Collecting sqlalchemy<2.0,>=1.4.36 (from apache-airflow)\n",
            "  Downloading SQLAlchemy-1.4.54-cp311-cp311-manylinux_2_5_x86_64.manylinux1_x86_64.manylinux_2_17_x86_64.manylinux2014_x86_64.whl.metadata (10 kB)\n",
            "Collecting sqlalchemy-jsonfield>=1.0 (from apache-airflow)\n",
            "  Downloading SQLAlchemy_JSONField-1.0.2-py3-none-any.whl.metadata (5.2 kB)\n",
            "Requirement already satisfied: tabulate>=0.7.5 in /usr/local/lib/python3.11/dist-packages (from apache-airflow) (0.9.0)\n",
            "Requirement already satisfied: tenacity!=8.2.0,>=8.0.0 in /usr/local/lib/python3.11/dist-packages (from apache-airflow) (9.0.0)\n",
            "Requirement already satisfied: termcolor>=1.1.0 in /usr/local/lib/python3.11/dist-packages (from apache-airflow) (2.5.0)\n",
            "Collecting universal-pathlib!=0.2.4,>=0.2.2 (from apache-airflow)\n",
            "  Downloading universal_pathlib-0.2.6-py3-none-any.whl.metadata (25 kB)\n",
            "Collecting werkzeug<3,>=2.0 (from apache-airflow)\n",
            "  Downloading werkzeug-2.3.8-py3-none-any.whl.metadata (4.1 kB)\n",
            "Collecting apache-airflow-providers-common-compat (from apache-airflow)\n",
            "  Downloading apache_airflow_providers_common_compat-1.5.1-py3-none-any.whl.metadata (5.3 kB)\n",
            "Collecting apache-airflow-providers-common-io (from apache-airflow)\n",
            "  Downloading apache_airflow_providers_common_io-1.5.1-py3-none-any.whl.metadata (5.2 kB)\n",
            "Collecting apache-airflow-providers-common-sql (from apache-airflow)\n",
            "  Downloading apache_airflow_providers_common_sql-1.24.0-py3-none-any.whl.metadata (5.3 kB)\n",
            "Collecting apache-airflow-providers-fab>=1.0.2 (from apache-airflow)\n",
            "  Downloading apache_airflow_providers_fab-1.5.3-py3-none-any.whl.metadata (6.4 kB)\n",
            "Collecting apache-airflow-providers-ftp (from apache-airflow)\n",
            "  Downloading apache_airflow_providers_ftp-3.12.3-py3-none-any.whl.metadata (5.2 kB)\n",
            "Collecting apache-airflow-providers-http (from apache-airflow)\n",
            "  Downloading apache_airflow_providers_http-5.2.1-py3-none-any.whl.metadata (4.1 kB)\n",
            "Collecting apache-airflow-providers-imap (from apache-airflow)\n",
            "  Downloading apache_airflow_providers_imap-3.8.3-py3-none-any.whl.metadata (3.8 kB)\n",
            "Collecting apache-airflow-providers-smtp (from apache-airflow)\n",
            "  Downloading apache_airflow_providers_smtp-2.0.1-py3-none-any.whl.metadata (3.8 kB)\n",
            "Collecting apache-airflow-providers-sqlite (from apache-airflow)\n",
            "  Downloading apache_airflow_providers_sqlite-4.0.1-py3-none-any.whl.metadata (5.1 kB)\n",
            "Requirement already satisfied: Mako in /usr/lib/python3/dist-packages (from alembic<2.0,>=1.13.1->apache-airflow) (1.1.3)\n",
            "Requirement already satisfied: typing-extensions>=4.12 in /usr/local/lib/python3.11/dist-packages (from alembic<2.0,>=1.13.1->apache-airflow) (4.12.2)\n",
            "Collecting flask-appbuilder==4.5.3 (from apache-airflow-providers-fab>=1.0.2->apache-airflow)\n",
            "  Downloading Flask_AppBuilder-4.5.3-py3-none-any.whl.metadata (8.9 kB)\n",
            "Collecting flask-login>=0.6.2 (from apache-airflow-providers-fab>=1.0.2->apache-airflow)\n",
            "  Downloading Flask_Login-0.6.3-py3-none-any.whl.metadata (5.8 kB)\n",
            "Collecting jmespath>=0.7.0 (from apache-airflow-providers-fab>=1.0.2->apache-airflow)\n",
            "  Downloading jmespath-1.0.1-py3-none-any.whl.metadata (7.6 kB)\n",
            "Collecting apispec<7,>=6.0.0 (from apispec[yaml]<7,>=6.0.0->flask-appbuilder==4.5.3->apache-airflow-providers-fab>=1.0.2->apache-airflow)\n",
            "  Downloading apispec-6.8.1-py3-none-any.whl.metadata (10 kB)\n",
            "Collecting colorama<1,>=0.3.9 (from flask-appbuilder==4.5.3->apache-airflow-providers-fab>=1.0.2->apache-airflow)\n",
            "  Downloading colorama-0.4.6-py2.py3-none-any.whl.metadata (17 kB)\n",
            "Requirement already satisfied: click<9,>=8 in /usr/local/lib/python3.11/dist-packages (from flask-appbuilder==4.5.3->apache-airflow-providers-fab>=1.0.2->apache-airflow) (8.1.8)\n",
            "Collecting email-validator>=1.0.5 (from flask-appbuilder==4.5.3->apache-airflow-providers-fab>=1.0.2->apache-airflow)\n",
            "  Downloading email_validator-2.2.0-py3-none-any.whl.metadata (25 kB)\n",
            "Collecting Flask-Babel<3,>=1 (from flask-appbuilder==4.5.3->apache-airflow-providers-fab>=1.0.2->apache-airflow)\n",
            "  Downloading Flask_Babel-2.0.0-py3-none-any.whl.metadata (2.1 kB)\n",
            "Collecting Flask-Limiter<4,>3 (from flask-appbuilder==4.5.3->apache-airflow-providers-fab>=1.0.2->apache-airflow)\n",
            "  Downloading flask_limiter-3.12-py3-none-any.whl.metadata (6.3 kB)\n",
            "Collecting Flask-SQLAlchemy<3,>=2.4 (from flask-appbuilder==4.5.3->apache-airflow-providers-fab>=1.0.2->apache-airflow)\n",
            "  Downloading Flask_SQLAlchemy-2.5.1-py2.py3-none-any.whl.metadata (3.1 kB)\n",
            "Collecting Flask-JWT-Extended<5.0.0,>=4.0.0 (from flask-appbuilder==4.5.3->apache-airflow-providers-fab>=1.0.2->apache-airflow)\n",
            "  Downloading Flask_JWT_Extended-4.7.1-py2.py3-none-any.whl.metadata (3.8 kB)\n",
            "Collecting marshmallow<4,>=3.18.0 (from flask-appbuilder==4.5.3->apache-airflow-providers-fab>=1.0.2->apache-airflow)\n",
            "  Downloading marshmallow-3.26.1-py3-none-any.whl.metadata (7.3 kB)\n",
            "Collecting marshmallow-sqlalchemy<0.29.0,>=0.22.0 (from flask-appbuilder==4.5.3->apache-airflow-providers-fab>=1.0.2->apache-airflow)\n",
            "  Downloading marshmallow_sqlalchemy-0.28.2-py2.py3-none-any.whl.metadata (6.8 kB)\n",
            "Collecting prison<1.0.0,>=0.2.1 (from flask-appbuilder==4.5.3->apache-airflow-providers-fab>=1.0.2->apache-airflow)\n",
            "  Downloading prison-0.2.1-py2.py3-none-any.whl.metadata (973 bytes)\n",
            "Collecting sqlalchemy-utils<1,>=0.32.21 (from flask-appbuilder==4.5.3->apache-airflow-providers-fab>=1.0.2->apache-airflow)\n",
            "  Downloading SQLAlchemy_Utils-0.41.2-py3-none-any.whl.metadata (4.2 kB)\n",
            "Collecting WTForms<4 (from flask-appbuilder==4.5.3->apache-airflow-providers-fab>=1.0.2->apache-airflow)\n",
            "  Downloading wtforms-3.2.1-py3-none-any.whl.metadata (5.3 kB)\n",
            "Collecting clickclick<21,>=1.2 (from connexion<3.0,>=2.14.2->connexion[flask]<3.0,>=2.14.2->apache-airflow)\n",
            "  Downloading clickclick-20.10.2-py2.py3-none-any.whl.metadata (7.6 kB)\n",
            "Requirement already satisfied: PyYAML<7,>=5.1 in /usr/local/lib/python3.11/dist-packages (from connexion<3.0,>=2.14.2->connexion[flask]<3.0,>=2.14.2->apache-airflow) (6.0.2)\n",
            "Collecting inflection<0.6,>=0.3.1 (from connexion<3.0,>=2.14.2->connexion[flask]<3.0,>=2.14.2->apache-airflow)\n",
            "  Downloading inflection-0.5.1-py2.py3-none-any.whl.metadata (1.7 kB)\n",
            "Collecting werkzeug<3,>=2.0 (from apache-airflow)\n",
            "  Downloading Werkzeug-2.2.3-py3-none-any.whl.metadata (4.4 kB)\n",
            "Requirement already satisfied: pytz>2021.1 in /usr/local/lib/python3.11/dist-packages (from croniter>=2.0.2->apache-airflow) (2025.1)\n",
            "Requirement already satisfied: cffi>=1.12 in /usr/local/lib/python3.11/dist-packages (from cryptography>=41.0.0->apache-airflow) (1.17.1)\n",
            "Requirement already satisfied: wrapt<2,>=1.10 in /usr/local/lib/python3.11/dist-packages (from deprecated>=1.2.13->apache-airflow) (1.17.2)\n",
            "Collecting cachelib>=0.9.0 (from flask-caching>=2.0.0->apache-airflow)\n",
            "  Downloading cachelib-0.13.0-py3-none-any.whl.metadata (2.0 kB)\n",
            "Requirement already satisfied: anyio in /usr/local/lib/python3.11/dist-packages (from httpx>=0.25.0->apache-airflow) (4.9.0)\n",
            "Requirement already satisfied: certifi in /usr/local/lib/python3.11/dist-packages (from httpx>=0.25.0->apache-airflow) (2025.1.31)\n",
            "Requirement already satisfied: httpcore==1.* in /usr/local/lib/python3.11/dist-packages (from httpx>=0.25.0->apache-airflow) (1.0.7)\n",
            "Requirement already satisfied: idna in /usr/local/lib/python3.11/dist-packages (from httpx>=0.25.0->apache-airflow) (3.10)\n",
            "Requirement already satisfied: h11<0.15,>=0.13 in /usr/local/lib/python3.11/dist-packages (from httpcore==1.*->httpx>=0.25.0->apache-airflow) (0.14.0)\n",
            "Requirement already satisfied: zipp>=3.20 in /usr/local/lib/python3.11/dist-packages (from importlib_metadata>=6.5->apache-airflow) (3.21.0)\n",
            "Requirement already satisfied: jsonschema-specifications>=2023.03.6 in /usr/local/lib/python3.11/dist-packages (from jsonschema>=4.18.0->apache-airflow) (2024.10.1)\n",
            "Requirement already satisfied: referencing>=0.28.4 in /usr/local/lib/python3.11/dist-packages (from jsonschema>=4.18.0->apache-airflow) (0.36.2)\n",
            "Requirement already satisfied: rpds-py>=0.7.1 in /usr/local/lib/python3.11/dist-packages (from jsonschema>=4.18.0->apache-airflow) (0.23.1)\n",
            "Requirement already satisfied: uc-micro-py in /usr/local/lib/python3.11/dist-packages (from linkify-it-py>=2.0.0->apache-airflow) (1.0.3)\n",
            "Requirement already satisfied: mdurl~=0.1 in /usr/local/lib/python3.11/dist-packages (from markdown-it-py>=2.1.0->apache-airflow) (0.1.2)\n",
            "Collecting wirerope>=0.4.7 (from methodtools>=0.4.7->apache-airflow)\n",
            "  Downloading wirerope-1.0.0-py2.py3-none-any.whl.metadata (3.3 kB)\n",
            "Collecting opentelemetry-exporter-otlp-proto-grpc==1.31.1 (from opentelemetry-exporter-otlp>=1.24.0->apache-airflow)\n",
            "  Downloading opentelemetry_exporter_otlp_proto_grpc-1.31.1-py3-none-any.whl.metadata (2.5 kB)\n",
            "Collecting opentelemetry-exporter-otlp-proto-http==1.31.1 (from opentelemetry-exporter-otlp>=1.24.0->apache-airflow)\n",
            "  Downloading opentelemetry_exporter_otlp_proto_http-1.31.1-py3-none-any.whl.metadata (2.4 kB)\n",
            "Requirement already satisfied: googleapis-common-protos~=1.52 in /usr/local/lib/python3.11/dist-packages (from opentelemetry-exporter-otlp-proto-grpc==1.31.1->opentelemetry-exporter-otlp>=1.24.0->apache-airflow) (1.69.2)\n",
            "Requirement already satisfied: grpcio<2.0.0,>=1.63.2 in /usr/local/lib/python3.11/dist-packages (from opentelemetry-exporter-otlp-proto-grpc==1.31.1->opentelemetry-exporter-otlp>=1.24.0->apache-airflow) (1.71.0)\n",
            "Collecting opentelemetry-exporter-otlp-proto-common==1.31.1 (from opentelemetry-exporter-otlp-proto-grpc==1.31.1->opentelemetry-exporter-otlp>=1.24.0->apache-airflow)\n",
            "  Downloading opentelemetry_exporter_otlp_proto_common-1.31.1-py3-none-any.whl.metadata (1.9 kB)\n",
            "Collecting opentelemetry-proto==1.31.1 (from opentelemetry-exporter-otlp-proto-grpc==1.31.1->opentelemetry-exporter-otlp>=1.24.0->apache-airflow)\n",
            "  Downloading opentelemetry_proto-1.31.1-py3-none-any.whl.metadata (2.4 kB)\n",
            "Collecting opentelemetry-sdk~=1.31.1 (from opentelemetry-exporter-otlp-proto-grpc==1.31.1->opentelemetry-exporter-otlp>=1.24.0->apache-airflow)\n",
            "  Downloading opentelemetry_sdk-1.31.1-py3-none-any.whl.metadata (1.6 kB)\n",
            "Requirement already satisfied: protobuf<6.0,>=5.0 in /usr/local/lib/python3.11/dist-packages (from opentelemetry-proto==1.31.1->opentelemetry-exporter-otlp-proto-grpc==1.31.1->opentelemetry-exporter-otlp>=1.24.0->apache-airflow) (5.29.3)\n",
            "Requirement already satisfied: tzdata>=2020.1 in /usr/local/lib/python3.11/dist-packages (from pendulum<4.0,>=2.1.2->apache-airflow) (2025.1)\n",
            "Collecting time-machine>=2.6.0 (from pendulum<4.0,>=2.1.2->apache-airflow)\n",
            "  Downloading time_machine-2.16.0-cp311-cp311-manylinux_2_5_x86_64.manylinux1_x86_64.manylinux_2_17_x86_64.manylinux2014_x86_64.whl.metadata (21 kB)\n",
            "Requirement already satisfied: six>=1.5 in /usr/local/lib/python3.11/dist-packages (from python-dateutil>=2.7.0->apache-airflow) (1.17.0)\n",
            "Requirement already satisfied: text-unidecode>=1.3 in /usr/local/lib/python3.11/dist-packages (from python-slugify>=5.0->apache-airflow) (1.3)\n",
            "Requirement already satisfied: charset-normalizer<4,>=2 in /usr/local/lib/python3.11/dist-packages (from requests<3,>=2.27.0->apache-airflow) (3.4.1)\n",
            "Requirement already satisfied: urllib3<3,>=1.21.1 in /usr/local/lib/python3.11/dist-packages (from requests<3,>=2.27.0->apache-airflow) (2.3.0)\n",
            "Requirement already satisfied: greenlet!=0.4.17 in /usr/local/lib/python3.11/dist-packages (from sqlalchemy<2.0,>=1.4.36->apache-airflow) (3.1.1)\n",
            "Requirement already satisfied: sqlparse>=0.5.1 in /usr/local/lib/python3.11/dist-packages (from apache-airflow-providers-common-sql->apache-airflow) (0.5.3)\n",
            "Requirement already satisfied: more-itertools>=9.0.0 in /usr/local/lib/python3.11/dist-packages (from apache-airflow-providers-common-sql->apache-airflow) (10.6.0)\n",
            "Requirement already satisfied: aiohttp!=3.11.0,>=3.9.2 in /usr/local/lib/python3.11/dist-packages (from apache-airflow-providers-http->apache-airflow) (3.11.14)\n",
            "Collecting aiosqlite>=0.20.0 (from apache-airflow-providers-sqlite->apache-airflow)\n",
            "  Downloading aiosqlite-0.21.0-py3-none-any.whl.metadata (4.3 kB)\n",
            "Requirement already satisfied: aiohappyeyeballs>=2.3.0 in /usr/local/lib/python3.11/dist-packages (from aiohttp!=3.11.0,>=3.9.2->apache-airflow-providers-http->apache-airflow) (2.6.1)\n",
            "Requirement already satisfied: aiosignal>=1.1.2 in /usr/local/lib/python3.11/dist-packages (from aiohttp!=3.11.0,>=3.9.2->apache-airflow-providers-http->apache-airflow) (1.3.2)\n",
            "Requirement already satisfied: frozenlist>=1.1.1 in /usr/local/lib/python3.11/dist-packages (from aiohttp!=3.11.0,>=3.9.2->apache-airflow-providers-http->apache-airflow) (1.5.0)\n",
            "Requirement already satisfied: multidict<7.0,>=4.5 in /usr/local/lib/python3.11/dist-packages (from aiohttp!=3.11.0,>=3.9.2->apache-airflow-providers-http->apache-airflow) (6.2.0)\n",
            "Requirement already satisfied: propcache>=0.2.0 in /usr/local/lib/python3.11/dist-packages (from aiohttp!=3.11.0,>=3.9.2->apache-airflow-providers-http->apache-airflow) (0.3.0)\n",
            "Requirement already satisfied: yarl<2.0,>=1.17.0 in /usr/local/lib/python3.11/dist-packages (from aiohttp!=3.11.0,>=3.9.2->apache-airflow-providers-http->apache-airflow) (1.18.3)\n",
            "Requirement already satisfied: pycparser in /usr/local/lib/python3.11/dist-packages (from cffi>=1.12->cryptography>=41.0.0->apache-airflow) (2.22)\n",
            "Requirement already satisfied: sniffio>=1.1 in /usr/local/lib/python3.11/dist-packages (from anyio->httpx>=0.25.0->apache-airflow) (1.3.1)\n",
            "Collecting dnspython>=2.0.0 (from email-validator>=1.0.5->flask-appbuilder==4.5.3->apache-airflow-providers-fab>=1.0.2->apache-airflow)\n",
            "  Downloading dnspython-2.7.0-py3-none-any.whl.metadata (5.8 kB)\n",
            "Requirement already satisfied: Babel>=2.3 in /usr/local/lib/python3.11/dist-packages (from Flask-Babel<3,>=1->flask-appbuilder==4.5.3->apache-airflow-providers-fab>=1.0.2->apache-airflow) (2.17.0)\n",
            "Collecting limits>=3.13 (from Flask-Limiter<4,>3->flask-appbuilder==4.5.3->apache-airflow-providers-fab>=1.0.2->apache-airflow)\n",
            "  Downloading limits-4.4.1-py3-none-any.whl.metadata (11 kB)\n",
            "Collecting ordered-set<5,>4 (from Flask-Limiter<4,>3->flask-appbuilder==4.5.3->apache-airflow-providers-fab>=1.0.2->apache-airflow)\n",
            "  Downloading ordered_set-4.1.0-py3-none-any.whl.metadata (5.3 kB)\n",
            "Collecting opentelemetry-api>=1.24.0 (from apache-airflow)\n",
            "  Downloading opentelemetry_api-1.31.1-py3-none-any.whl.metadata (1.6 kB)\n",
            "Collecting opentelemetry-semantic-conventions==0.52b1 (from opentelemetry-sdk~=1.31.1->opentelemetry-exporter-otlp-proto-grpc==1.31.1->opentelemetry-exporter-otlp>=1.24.0->apache-airflow)\n",
            "  Downloading opentelemetry_semantic_conventions-0.52b1-py3-none-any.whl.metadata (2.5 kB)\n",
            "Downloading apache_airflow-2.10.5-py3-none-any.whl (13.4 MB)\n",
            "\u001b[2K   \u001b[90m━━━━━━━━━━━━━━━━━━━━━━━━━━━━━━━━━━━━━━━━\u001b[0m \u001b[32m13.4/13.4 MB\u001b[0m \u001b[31m84.1 MB/s\u001b[0m eta \u001b[36m0:00:00\u001b[0m\n",
            "\u001b[?25hDownloading alembic-1.15.1-py3-none-any.whl (231 kB)\n",
            "\u001b[2K   \u001b[90m━━━━━━━━━━━━━━━━━━━━━━━━━━━━━━━━━━━━━━━━\u001b[0m \u001b[32m231.8/231.8 kB\u001b[0m \u001b[31m21.7 MB/s\u001b[0m eta \u001b[36m0:00:00\u001b[0m\n",
            "\u001b[?25hDownloading apache_airflow_providers_fab-1.5.3-py3-none-any.whl (98 kB)\n",
            "\u001b[2K   \u001b[90m━━━━━━━━━━━━━━━━━━━━━━━━━━━━━━━━━━━━━━━━\u001b[0m \u001b[32m98.1/98.1 kB\u001b[0m \u001b[31m10.5 MB/s\u001b[0m eta \u001b[36m0:00:00\u001b[0m\n",
            "\u001b[?25hDownloading Flask_AppBuilder-4.5.3-py3-none-any.whl (2.2 MB)\n",
            "\u001b[2K   \u001b[90m━━━━━━━━━━━━━━━━━━━━━━━━━━━━━━━━━━━━━━━━\u001b[0m \u001b[32m2.2/2.2 MB\u001b[0m \u001b[31m74.0 MB/s\u001b[0m eta \u001b[36m0:00:00\u001b[0m\n",
            "\u001b[?25hDownloading apache_airflow_providers_common_compat-1.5.1-py3-none-any.whl (26 kB)\n",
            "Downloading argcomplete-3.6.0-py3-none-any.whl (43 kB)\n",
            "\u001b[2K   \u001b[90m━━━━━━━━━━━━━━━━━━━━━━━━━━━━━━━━━━━━━━━━\u001b[0m \u001b[32m43.8/43.8 kB\u001b[0m \u001b[31m3.9 MB/s\u001b[0m eta \u001b[36m0:00:00\u001b[0m\n",
            "\u001b[?25hDownloading asgiref-3.8.1-py3-none-any.whl (23 kB)\n",
            "Downloading colorlog-6.9.0-py3-none-any.whl (11 kB)\n",
            "Downloading ConfigUpdater-3.2-py2.py3-none-any.whl (34 kB)\n",
            "Downloading connexion-2.14.2-py2.py3-none-any.whl (95 kB)\n",
            "\u001b[2K   \u001b[90m━━━━━━━━━━━━━━━━━━━━━━━━━━━━━━━━━━━━━━━━\u001b[0m \u001b[32m95.1/95.1 kB\u001b[0m \u001b[31m9.6 MB/s\u001b[0m eta \u001b[36m0:00:00\u001b[0m\n",
            "\u001b[?25hDownloading cron_descriptor-1.4.5-py3-none-any.whl (50 kB)\n",
            "\u001b[2K   \u001b[90m━━━━━━━━━━━━━━━━━━━━━━━━━━━━━━━━━━━━━━━━\u001b[0m \u001b[32m50.4/50.4 kB\u001b[0m \u001b[31m4.7 MB/s\u001b[0m eta \u001b[36m0:00:00\u001b[0m\n",
            "\u001b[?25hDownloading croniter-6.0.0-py2.py3-none-any.whl (25 kB)\n",
            "Downloading dill-0.3.9-py3-none-any.whl (119 kB)\n",
            "\u001b[2K   \u001b[90m━━━━━━━━━━━━━━━━━━━━━━━━━━━━━━━━━━━━━━━━\u001b[0m \u001b[32m119.4/119.4 kB\u001b[0m \u001b[31m12.4 MB/s\u001b[0m eta \u001b[36m0:00:00\u001b[0m\n",
            "\u001b[?25hDownloading Flask-2.2.5-py3-none-any.whl (101 kB)\n",
            "\u001b[2K   \u001b[90m━━━━━━━━━━━━━━━━━━━━━━━━━━━━━━━━━━━━━━━━\u001b[0m \u001b[32m101.8/101.8 kB\u001b[0m \u001b[31m9.4 MB/s\u001b[0m eta \u001b[36m0:00:00\u001b[0m\n",
            "\u001b[?25hDownloading Flask_Caching-2.3.1-py3-none-any.whl (28 kB)\n",
            "Downloading flask_session-0.5.0-py3-none-any.whl (7.2 kB)\n",
            "Downloading flask_wtf-1.2.2-py3-none-any.whl (12 kB)\n",
            "Downloading google_re2-1.1.20240702-1-cp311-cp311-manylinux_2_24_x86_64.manylinux_2_28_x86_64.whl (548 kB)\n",
            "\u001b[2K   \u001b[90m━━━━━━━━━━━━━━━━━━━━━━━━━━━━━━━━━━━━━━━━\u001b[0m \u001b[32m548.4/548.4 kB\u001b[0m \u001b[31m37.7 MB/s\u001b[0m eta \u001b[36m0:00:00\u001b[0m\n",
            "\u001b[?25hDownloading gunicorn-23.0.0-py3-none-any.whl (85 kB)\n",
            "\u001b[2K   \u001b[90m━━━━━━━━━━━━━━━━━━━━━━━━━━━━━━━━━━━━━━━━\u001b[0m \u001b[32m85.0/85.0 kB\u001b[0m \u001b[31m8.1 MB/s\u001b[0m eta \u001b[36m0:00:00\u001b[0m\n",
            "\u001b[?25hDownloading lazy_object_proxy-1.10.0-cp311-cp311-manylinux_2_5_x86_64.manylinux1_x86_64.manylinux_2_17_x86_64.manylinux2014_x86_64.whl (69 kB)\n",
            "\u001b[2K   \u001b[90m━━━━━━━━━━━━━━━━━━━━━━━━━━━━━━━━━━━━━━━━\u001b[0m \u001b[32m69.8/69.8 kB\u001b[0m \u001b[31m7.0 MB/s\u001b[0m eta \u001b[36m0:00:00\u001b[0m\n",
            "\u001b[?25hDownloading lockfile-0.12.2-py2.py3-none-any.whl (13 kB)\n",
            "Downloading marshmallow_oneofschema-3.1.1-py3-none-any.whl (5.7 kB)\n",
            "Downloading methodtools-0.4.7-py2.py3-none-any.whl (4.0 kB)\n",
            "Downloading opentelemetry_exporter_otlp-1.31.1-py3-none-any.whl (7.0 kB)\n",
            "Downloading opentelemetry_exporter_otlp_proto_grpc-1.31.1-py3-none-any.whl (18 kB)\n",
            "Downloading opentelemetry_exporter_otlp_proto_http-1.31.1-py3-none-any.whl (17 kB)\n",
            "Downloading opentelemetry_exporter_otlp_proto_common-1.31.1-py3-none-any.whl (18 kB)\n",
            "Downloading opentelemetry_proto-1.31.1-py3-none-any.whl (55 kB)\n",
            "\u001b[2K   \u001b[90m━━━━━━━━━━━━━━━━━━━━━━━━━━━━━━━━━━━━━━━━\u001b[0m \u001b[32m55.9/55.9 kB\u001b[0m \u001b[31m5.4 MB/s\u001b[0m eta \u001b[36m0:00:00\u001b[0m\n",
            "\u001b[?25hDownloading pathspec-0.12.1-py3-none-any.whl (31 kB)\n",
            "Downloading pendulum-3.0.0-cp311-cp311-manylinux_2_17_x86_64.manylinux2014_x86_64.whl (384 kB)\n",
            "\u001b[2K   \u001b[90m━━━━━━━━━━━━━━━━━━━━━━━━━━━━━━━━━━━━━━━━\u001b[0m \u001b[32m384.9/384.9 kB\u001b[0m \u001b[31m28.1 MB/s\u001b[0m eta \u001b[36m0:00:00\u001b[0m\n",
            "\u001b[?25hDownloading python_daemon-3.1.2-py3-none-any.whl (30 kB)\n",
            "Downloading rfc3339_validator-0.1.4-py2.py3-none-any.whl (3.5 kB)\n",
            "Downloading rich_argparse-1.7.0-py3-none-any.whl (25 kB)\n",
            "Downloading SQLAlchemy-1.4.54-cp311-cp311-manylinux_2_5_x86_64.manylinux1_x86_64.manylinux_2_17_x86_64.manylinux2014_x86_64.whl (1.6 MB)\n",
            "\u001b[2K   \u001b[90m━━━━━━━━━━━━━━━━━━━━━━━━━━━━━━━━━━━━━━━━\u001b[0m \u001b[32m1.6/1.6 MB\u001b[0m \u001b[31m74.7 MB/s\u001b[0m eta \u001b[36m0:00:00\u001b[0m\n",
            "\u001b[?25hDownloading SQLAlchemy_JSONField-1.0.2-py3-none-any.whl (10 kB)\n",
            "Downloading universal_pathlib-0.2.6-py3-none-any.whl (50 kB)\n",
            "\u001b[2K   \u001b[90m━━━━━━━━━━━━━━━━━━━━━━━━━━━━━━━━━━━━━━━━\u001b[0m \u001b[32m50.1/50.1 kB\u001b[0m \u001b[31m4.7 MB/s\u001b[0m eta \u001b[36m0:00:00\u001b[0m\n",
            "\u001b[?25hDownloading Werkzeug-2.2.3-py3-none-any.whl (233 kB)\n",
            "\u001b[2K   \u001b[90m━━━━━━━━━━━━━━━━━━━━━━━━━━━━━━━━━━━━━━━━\u001b[0m \u001b[32m233.6/233.6 kB\u001b[0m \u001b[31m17.4 MB/s\u001b[0m eta \u001b[36m0:00:00\u001b[0m\n",
            "\u001b[?25hDownloading apache_airflow_providers_common_io-1.5.1-py3-none-any.whl (19 kB)\n",
            "Downloading apache_airflow_providers_common_sql-1.24.0-py3-none-any.whl (63 kB)\n",
            "\u001b[2K   \u001b[90m━━━━━━━━━━━━━━━━━━━━━━━━━━━━━━━━━━━━━━━━\u001b[0m \u001b[32m63.4/63.4 kB\u001b[0m \u001b[31m6.2 MB/s\u001b[0m eta \u001b[36m0:00:00\u001b[0m\n",
            "\u001b[?25hDownloading apache_airflow_providers_ftp-3.12.3-py3-none-any.whl (18 kB)\n",
            "Downloading apache_airflow_providers_http-5.2.1-py3-none-any.whl (28 kB)\n",
            "Downloading apache_airflow_providers_imap-3.8.3-py3-none-any.whl (16 kB)\n",
            "Downloading apache_airflow_providers_smtp-2.0.1-py3-none-any.whl (21 kB)\n",
            "Downloading apache_airflow_providers_sqlite-4.0.1-py3-none-any.whl (11 kB)\n",
            "Downloading aiosqlite-0.21.0-py3-none-any.whl (15 kB)\n",
            "Downloading cachelib-0.13.0-py3-none-any.whl (20 kB)\n",
            "Downloading clickclick-20.10.2-py2.py3-none-any.whl (7.4 kB)\n",
            "Downloading Flask_Login-0.6.3-py3-none-any.whl (17 kB)\n",
            "Downloading inflection-0.5.1-py2.py3-none-any.whl (9.5 kB)\n",
            "Downloading jmespath-1.0.1-py3-none-any.whl (20 kB)\n",
            "Downloading marshmallow-3.26.1-py3-none-any.whl (50 kB)\n",
            "\u001b[2K   \u001b[90m━━━━━━━━━━━━━━━━━━━━━━━━━━━━━━━━━━━━━━━━\u001b[0m \u001b[32m50.9/50.9 kB\u001b[0m \u001b[31m4.4 MB/s\u001b[0m eta \u001b[36m0:00:00\u001b[0m\n",
            "\u001b[?25hDownloading time_machine-2.16.0-cp311-cp311-manylinux_2_5_x86_64.manylinux1_x86_64.manylinux_2_17_x86_64.manylinux2014_x86_64.whl (32 kB)\n",
            "Downloading wirerope-1.0.0-py2.py3-none-any.whl (9.2 kB)\n",
            "Downloading wtforms-3.2.1-py3-none-any.whl (152 kB)\n",
            "\u001b[2K   \u001b[90m━━━━━━━━━━━━━━━━━━━━━━━━━━━━━━━━━━━━━━━━\u001b[0m \u001b[32m152.5/152.5 kB\u001b[0m \u001b[31m14.0 MB/s\u001b[0m eta \u001b[36m0:00:00\u001b[0m\n",
            "\u001b[?25hDownloading apispec-6.8.1-py3-none-any.whl (30 kB)\n",
            "Downloading colorama-0.4.6-py2.py3-none-any.whl (25 kB)\n",
            "Downloading email_validator-2.2.0-py3-none-any.whl (33 kB)\n",
            "Downloading Flask_Babel-2.0.0-py3-none-any.whl (9.3 kB)\n",
            "Downloading Flask_JWT_Extended-4.7.1-py2.py3-none-any.whl (22 kB)\n",
            "Downloading flask_limiter-3.12-py3-none-any.whl (28 kB)\n",
            "Downloading Flask_SQLAlchemy-2.5.1-py2.py3-none-any.whl (17 kB)\n",
            "Downloading marshmallow_sqlalchemy-0.28.2-py2.py3-none-any.whl (16 kB)\n",
            "Downloading opentelemetry_sdk-1.31.1-py3-none-any.whl (118 kB)\n",
            "\u001b[2K   \u001b[90m━━━━━━━━━━━━━━━━━━━━━━━━━━━━━━━━━━━━━━━━\u001b[0m \u001b[32m118.9/118.9 kB\u001b[0m \u001b[31m10.9 MB/s\u001b[0m eta \u001b[36m0:00:00\u001b[0m\n",
            "\u001b[?25hDownloading opentelemetry_api-1.31.1-py3-none-any.whl (65 kB)\n",
            "\u001b[2K   \u001b[90m━━━━━━━━━━━━━━━━━━━━━━━━━━━━━━━━━━━━━━━━\u001b[0m \u001b[32m65.2/65.2 kB\u001b[0m \u001b[31m5.8 MB/s\u001b[0m eta \u001b[36m0:00:00\u001b[0m\n",
            "\u001b[?25hDownloading opentelemetry_semantic_conventions-0.52b1-py3-none-any.whl (183 kB)\n",
            "\u001b[2K   \u001b[90m━━━━━━━━━━━━━━━━━━━━━━━━━━━━━━━━━━━━━━━━\u001b[0m \u001b[32m183.4/183.4 kB\u001b[0m \u001b[31m16.7 MB/s\u001b[0m eta \u001b[36m0:00:00\u001b[0m\n",
            "\u001b[?25hDownloading prison-0.2.1-py2.py3-none-any.whl (5.8 kB)\n",
            "Downloading SQLAlchemy_Utils-0.41.2-py3-none-any.whl (93 kB)\n",
            "\u001b[2K   \u001b[90m━━━━━━━━━━━━━━━━━━━━━━━━━━━━━━━━━━━━━━━━\u001b[0m \u001b[32m93.1/93.1 kB\u001b[0m \u001b[31m9.2 MB/s\u001b[0m eta \u001b[36m0:00:00\u001b[0m\n",
            "\u001b[?25hDownloading dnspython-2.7.0-py3-none-any.whl (313 kB)\n",
            "\u001b[2K   \u001b[90m━━━━━━━━━━━━━━━━━━━━━━━━━━━━━━━━━━━━━━━━\u001b[0m \u001b[32m313.6/313.6 kB\u001b[0m \u001b[31m24.6 MB/s\u001b[0m eta \u001b[36m0:00:00\u001b[0m\n",
            "\u001b[?25hDownloading limits-4.4.1-py3-none-any.whl (61 kB)\n",
            "\u001b[2K   \u001b[90m━━━━━━━━━━━━━━━━━━━━━━━━━━━━━━━━━━━━━━━━\u001b[0m \u001b[32m61.7/61.7 kB\u001b[0m \u001b[31m5.6 MB/s\u001b[0m eta \u001b[36m0:00:00\u001b[0m\n",
            "\u001b[?25hDownloading ordered_set-4.1.0-py3-none-any.whl (7.6 kB)\n",
            "Building wheels for collected packages: python-nvd3\n",
            "  Building wheel for python-nvd3 (setup.py) ... \u001b[?25l\u001b[?25hdone\n",
            "  Created wheel for python-nvd3: filename=python_nvd3-0.16.0-py3-none-any.whl size=37571 sha256=7b9a968b4eafccfbbc1e6c54df21c5a60669e56c45dc24a819eff697f498858d\n",
            "  Stored in directory: /root/.cache/pip/wheels/88/26/3f/0695457939a8025f982dca665d4d7018468ccf8ccf43e45c5f\n",
            "Successfully built python-nvd3\n",
            "Installing collected packages: lockfile, cron-descriptor, WTForms, wirerope, werkzeug, universal-pathlib, sqlalchemy, rfc3339-validator, python-daemon, prison, pathspec, ordered-set, opentelemetry-proto, marshmallow, lazy-object-proxy, jmespath, inflection, gunicorn, google-re2, dnspython, dill, configupdater, colorlog, colorama, clickclick, cachelib, asgiref, argcomplete, apispec, aiosqlite, time-machine, sqlalchemy-utils, sqlalchemy-jsonfield, python-nvd3, opentelemetry-exporter-otlp-proto-common, opentelemetry-api, methodtools, marshmallow-sqlalchemy, marshmallow-oneofschema, limits, flask, email-validator, croniter, alembic, rich-argparse, pendulum, opentelemetry-semantic-conventions, flask-wtf, Flask-SQLAlchemy, flask-session, flask-login, Flask-Limiter, Flask-JWT-Extended, flask-caching, Flask-Babel, opentelemetry-sdk, flask-appbuilder, connexion, opentelemetry-exporter-otlp-proto-http, opentelemetry-exporter-otlp-proto-grpc, opentelemetry-exporter-otlp, apache-airflow-providers-common-sql, apache-airflow-providers-common-compat, apache-airflow-providers-sqlite, apache-airflow-providers-smtp, apache-airflow-providers-imap, apache-airflow-providers-http, apache-airflow-providers-ftp, apache-airflow-providers-fab, apache-airflow-providers-common-io, apache-airflow\n",
            "  Attempting uninstall: werkzeug\n",
            "    Found existing installation: Werkzeug 3.1.3\n",
            "    Uninstalling Werkzeug-3.1.3:\n",
            "      Successfully uninstalled Werkzeug-3.1.3\n",
            "  Attempting uninstall: sqlalchemy\n",
            "    Found existing installation: SQLAlchemy 2.0.39\n",
            "    Uninstalling SQLAlchemy-2.0.39:\n",
            "      Successfully uninstalled SQLAlchemy-2.0.39\n",
            "  Attempting uninstall: opentelemetry-api\n",
            "    Found existing installation: opentelemetry-api 1.31.0\n",
            "    Uninstalling opentelemetry-api-1.31.0:\n",
            "      Successfully uninstalled opentelemetry-api-1.31.0\n",
            "  Attempting uninstall: flask\n",
            "    Found existing installation: Flask 3.1.0\n",
            "    Uninstalling Flask-3.1.0:\n",
            "      Successfully uninstalled Flask-3.1.0\n",
            "  Attempting uninstall: opentelemetry-semantic-conventions\n",
            "    Found existing installation: opentelemetry-semantic-conventions 0.52b0\n",
            "    Uninstalling opentelemetry-semantic-conventions-0.52b0:\n",
            "      Successfully uninstalled opentelemetry-semantic-conventions-0.52b0\n",
            "  Attempting uninstall: opentelemetry-sdk\n",
            "    Found existing installation: opentelemetry-sdk 1.31.0\n",
            "    Uninstalling opentelemetry-sdk-1.31.0:\n",
            "      Successfully uninstalled opentelemetry-sdk-1.31.0\n",
            "\u001b[31mERROR: pip's dependency resolver does not currently take into account all the packages that are installed. This behaviour is the source of the following dependency conflicts.\n",
            "ipython-sql 0.5.0 requires sqlalchemy>=2.0, but you have sqlalchemy 1.4.54 which is incompatible.\u001b[0m\u001b[31m\n",
            "\u001b[0mSuccessfully installed Flask-Babel-2.0.0 Flask-JWT-Extended-4.7.1 Flask-Limiter-3.12 Flask-SQLAlchemy-2.5.1 WTForms-3.2.1 aiosqlite-0.21.0 alembic-1.15.1 apache-airflow-2.10.5 apache-airflow-providers-common-compat-1.5.1 apache-airflow-providers-common-io-1.5.1 apache-airflow-providers-common-sql-1.24.0 apache-airflow-providers-fab-1.5.3 apache-airflow-providers-ftp-3.12.3 apache-airflow-providers-http-5.2.1 apache-airflow-providers-imap-3.8.3 apache-airflow-providers-smtp-2.0.1 apache-airflow-providers-sqlite-4.0.1 apispec-6.8.1 argcomplete-3.6.0 asgiref-3.8.1 cachelib-0.13.0 clickclick-20.10.2 colorama-0.4.6 colorlog-6.9.0 configupdater-3.2 connexion-2.14.2 cron-descriptor-1.4.5 croniter-6.0.0 dill-0.3.9 dnspython-2.7.0 email-validator-2.2.0 flask-2.2.5 flask-appbuilder-4.5.3 flask-caching-2.3.1 flask-login-0.6.3 flask-session-0.5.0 flask-wtf-1.2.2 google-re2-1.1.20240702 gunicorn-23.0.0 inflection-0.5.1 jmespath-1.0.1 lazy-object-proxy-1.10.0 limits-4.4.1 lockfile-0.12.2 marshmallow-3.26.1 marshmallow-oneofschema-3.1.1 marshmallow-sqlalchemy-0.28.2 methodtools-0.4.7 opentelemetry-api-1.31.1 opentelemetry-exporter-otlp-1.31.1 opentelemetry-exporter-otlp-proto-common-1.31.1 opentelemetry-exporter-otlp-proto-grpc-1.31.1 opentelemetry-exporter-otlp-proto-http-1.31.1 opentelemetry-proto-1.31.1 opentelemetry-sdk-1.31.1 opentelemetry-semantic-conventions-0.52b1 ordered-set-4.1.0 pathspec-0.12.1 pendulum-3.0.0 prison-0.2.1 python-daemon-3.1.2 python-nvd3-0.16.0 rfc3339-validator-0.1.4 rich-argparse-1.7.0 sqlalchemy-1.4.54 sqlalchemy-jsonfield-1.0.2 sqlalchemy-utils-0.41.2 time-machine-2.16.0 universal-pathlib-0.2.6 werkzeug-2.2.3 wirerope-1.0.0\n"
          ]
        }
      ]
    },
    {
      "cell_type": "code",
      "source": [
        "# We will define the DAG and task to build the pipeline\n",
        "from airflow import DAG\n",
        "from airflow.operators.python import PythonOperator\n",
        "from datetime import datetime\n",
        "\n",
        "# define the data preprocessing function\n",
        "def preprocess_data():\n",
        "    file_path = '/content/screentime_analysis (1).csv'\n",
        "    data = pd.read_csv(file_path)\n",
        "\n",
        "    data['Date'] = pd.to_datetime(data['Date'])\n",
        "    data['DayOfWeek'] = data['Date'].dt.dayofweek\n",
        "    data['Month'] = data['Date'].dt.month\n",
        "\n",
        "    data = data.drop(columns=['Date'])\n",
        "\n",
        "    data = pd.get_dummies(data, columns=['App'], drop_first=True)\n",
        "\n",
        "    scaler = MinMaxScaler()\n",
        "    data[['Notifications', 'Times Opened']] = scaler.fit_transform(data[['Notifications', 'Times Opened']])\n",
        "\n",
        "    preprocessed_path = 'preprocessed_screentime_analysis.csv'\n",
        "    data.to_csv(preprocessed_path, index=False)\n",
        "    print(f\"Preprocessed data saved to {preprocessed_path}\")\n",
        "\n",
        "# define the DAG\n",
        "dag = DAG(\n",
        "    dag_id='data_preprocessing',\n",
        "    schedule_interval='@daily',\n",
        "    start_date=datetime(2025, 1, 1),\n",
        "    catchup=False,\n",
        ")\n",
        "\n",
        "# define the task\n",
        "preprocess_task = PythonOperator(\n",
        "    task_id='preprocess',\n",
        "    python_callable=preprocess_data,\n",
        "    dag=dag,\n",
        ")"
      ],
      "metadata": {
        "colab": {
          "base_uri": "https://localhost:8080/",
          "height": 52
        },
        "id": "RldYq7nDFPX_",
        "outputId": "4c808175-3495-47f8-bce4-2b23cf86afd9"
      },
      "execution_count": null,
      "outputs": [
        {
          "output_type": "display_data",
          "data": {
            "text/plain": [
              "\u001b[1;33m<\u001b[0m\u001b[1;33mipython-input-\u001b[0m\u001b[1;33m14\u001b[0m\u001b[1;33m-b13734bd13d8\u001b[0m\u001b[1;33m>\u001b[0m\u001b[1;33m:\u001b[0m\u001b[1;33m27\u001b[0m\u001b[1;33m RemovedInAirflow3Warning\u001b[0m\u001b[33m: Param `schedule_interval` is deprecated and will be removed in a future release. Please use `schedule` instead.\u001b[0m\n"
            ],
            "text/html": [
              "<pre style=\"white-space:pre;overflow-x:auto;line-height:normal;font-family:Menlo,'DejaVu Sans Mono',consolas,'Courier New',monospace\"><span style=\"color: #808000; text-decoration-color: #808000; font-weight: bold\">&lt;ipython-input-</span><span style=\"color: #808000; text-decoration-color: #808000; font-weight: bold\">14</span><span style=\"color: #808000; text-decoration-color: #808000; font-weight: bold\">-b13734bd13d8&gt;:</span><span style=\"color: #808000; text-decoration-color: #808000; font-weight: bold\">27</span><span style=\"color: #808000; text-decoration-color: #808000; font-weight: bold\"> RemovedInAirflow3Warning</span><span style=\"color: #808000; text-decoration-color: #808000\">: Param `schedule_interval` is deprecated and will be removed in a future release. Please use `schedule` instead.</span>\n",
              "</pre>\n"
            ]
          },
          "metadata": {}
        }
      ]
    },
    {
      "cell_type": "markdown",
      "source": [
        "- The above code defines a Directed Acyclic Graph with a single task to preprocess screentime data.\n",
        "- The preprocess_data function loads the dataset, extracts temporal features (DayOfWeek and Month) from the Date column, encodes the App column using one-hot encoding, and scales numerical features (Notifications and Times Opened) using MinMaxScaler.\n",
        "\n",
        "- Next, the system saves the processed data to a new CSV file.\n",
        "- The Airflow DAG schedules this task daily, which ensures automation and reproducibility in the data preparation process."
      ],
      "metadata": {
        "id": "BQDWxm8NFxuC"
      }
    },
    {
      "cell_type": "code",
      "source": [],
      "metadata": {
        "id": "Xqr9zH19Fqnl"
      },
      "execution_count": null,
      "outputs": []
    }
  ]
}